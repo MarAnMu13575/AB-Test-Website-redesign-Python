{
 "cells": [
  {
   "cell_type": "markdown",
   "id": "052c25bb-7007-4893-a37e-31ceb0c38095",
   "metadata": {},
   "source": [
    "# Website new vs old, what version we should use?\n",
    "\n",
    "## Content\n",
    "\n",
    "### - Introduction\n",
    "### - Description of the dataframe\n",
    "### - Developing A/B test\n",
    "### - Collecting and preparing the data\n",
    "### - Testing hypotesis\n",
    "### - Visualization\n",
    "### - Conclusion"
   ]
  },
  {
   "cell_type": "markdown",
   "id": "981039fc-ef6d-4969-b223-470fff3be582",
   "metadata": {},
   "source": [
    "# Introduction\n",
    "Working for an early-stage startup, the team has been working on a redesign of the landing page. The team believes a new design will increase the number of people who click through and join your site, increasing the current conversion rate. Using and A/B test on a subset of user database we will determine if the old design is better than the new ones."
   ]
  },
  {
   "cell_type": "markdown",
   "id": "42582c41-f21f-46d4-9841-d30738270624",
   "metadata": {},
   "source": [
    "# Description of the dataframe \n",
    "\n",
    "#### Column description\n",
    "\n",
    "- \"treatment\" - \"yes\" if the user saw the new version of the landing page, no otherwise.\n",
    "- \"new_images\" - \"yes\" if the page used a new set of images, no otherwise.\n",
    "- \"converted\" - 1 if the user joined the site, 0 otherwise.\n",
    "- \"n_count\" - count of values in dataframe for each design type\n",
    "- \"percent_rate\" - percent of values in dataframe for each design type\n",
    "- \"group\" - group of each desing type\n",
    "\n",
    "The control group is those users with \"no\" in both columns: the old version with the old set of images. Treatment = 0, New images = 0."
   ]
  },
  {
   "cell_type": "code",
   "execution_count": null,
   "id": "a0076e73-42b4-47e5-ace1-a6a9a2b31c7a",
   "metadata": {},
   "outputs": [],
   "source": [
    "#libraries used for analysis\n",
    "import pandas as pd\n",
    "import seaborn as sns\n",
    "import matplotlib.pyplot as plt\n",
    "import numpy as np\n",
    "import scipy as sci\n",
    "import scipy.stats as stats\n",
    "from scipy.stats import norm\n",
    "\n"
   ]
  },
  {
   "cell_type": "code",
   "execution_count": null,
   "id": "40251159-3eea-47f8-bfb4-09e38d5ced65",
   "metadata": {},
   "outputs": [
    {
     "data": {
      "text/html": [
       "<div>\n",
       "<style scoped>\n",
       "    .dataframe tbody tr th:only-of-type {\n",
       "        vertical-align: middle;\n",
       "    }\n",
       "\n",
       "    .dataframe tbody tr th {\n",
       "        vertical-align: top;\n",
       "    }\n",
       "\n",
       "    .dataframe thead th {\n",
       "        text-align: right;\n",
       "    }\n",
       "</style>\n",
       "<table border=\"1\" class=\"dataframe\">\n",
       "  <thead>\n",
       "    <tr style=\"text-align: right;\">\n",
       "      <th></th>\n",
       "      <th>treatment</th>\n",
       "      <th>new_images</th>\n",
       "      <th>converted</th>\n",
       "    </tr>\n",
       "  </thead>\n",
       "  <tbody>\n",
       "    <tr>\n",
       "      <th>0</th>\n",
       "      <td>yes</td>\n",
       "      <td>yes</td>\n",
       "      <td>0</td>\n",
       "    </tr>\n",
       "    <tr>\n",
       "      <th>1</th>\n",
       "      <td>yes</td>\n",
       "      <td>yes</td>\n",
       "      <td>0</td>\n",
       "    </tr>\n",
       "    <tr>\n",
       "      <th>2</th>\n",
       "      <td>yes</td>\n",
       "      <td>yes</td>\n",
       "      <td>0</td>\n",
       "    </tr>\n",
       "    <tr>\n",
       "      <th>3</th>\n",
       "      <td>yes</td>\n",
       "      <td>no</td>\n",
       "      <td>0</td>\n",
       "    </tr>\n",
       "    <tr>\n",
       "      <th>4</th>\n",
       "      <td>no</td>\n",
       "      <td>yes</td>\n",
       "      <td>0</td>\n",
       "    </tr>\n",
       "  </tbody>\n",
       "</table>\n",
       "</div>"
      ],
      "text/plain": [
       "  treatment new_images  converted\n",
       "0       yes        yes          0\n",
       "1       yes        yes          0\n",
       "2       yes        yes          0\n",
       "3       yes         no          0\n",
       "4        no        yes          0"
      ]
     },
     "execution_count": 50,
     "metadata": {},
     "output_type": "execute_result"
    }
   ],
   "source": [
    "df = pd.read_csv('./data/redesign.csv')\n",
    "df.head()"
   ]
  },
  {
   "cell_type": "markdown",
   "id": "6cfabef1-608a-4e06-972d-289cd248780d",
   "metadata": {},
   "source": [
    "A we can saw in the info() of the database, we have 40483 entries.\n",
    "\n",
    "Dtype of the column:\n",
    "- Treatment: object\n",
    "- New images: object\n",
    "- Converted: int64\n",
    "\n",
    "Searching for NaN values with isna().sum(), it looks like all the columns are complete.\n",
    "\n",
    "To help with the analysis we will convert all the str values to int. No = 0, Yes = 1"
   ]
  },
  {
   "cell_type": "code",
   "execution_count": null,
   "id": "f6b7fc6f-5780-4516-b9b6-6d5e663d2697",
   "metadata": {},
   "outputs": [
    {
     "name": "stdout",
     "output_type": "stream",
     "text": [
      "<class 'pandas.core.frame.DataFrame'>\n",
      "RangeIndex: 40484 entries, 0 to 40483\n",
      "Data columns (total 3 columns):\n",
      " #   Column      Non-Null Count  Dtype \n",
      "---  ------      --------------  ----- \n",
      " 0   treatment   40484 non-null  object\n",
      " 1   new_images  40484 non-null  object\n",
      " 2   converted   40484 non-null  int64 \n",
      "dtypes: int64(1), object(2)\n",
      "memory usage: 949.0+ KB\n",
      "None\n"
     ]
    }
   ],
   "source": [
    "print(df.info())"
   ]
  },
  {
   "cell_type": "code",
   "execution_count": null,
   "id": "2ed79e8f-d3b7-4b15-bd0b-24edde977f3b",
   "metadata": {},
   "outputs": [
    {
     "name": "stdout",
     "output_type": "stream",
     "text": [
      "treatment     0\n",
      "new_images    0\n",
      "converted     0\n",
      "dtype: int64\n"
     ]
    }
   ],
   "source": [
    "print(df.isna().sum())\n",
    "df.replace({'yes': 1, 'no': 0},inplace=True)"
   ]
  },
  {
   "cell_type": "code",
   "execution_count": null,
   "id": "07d7752b-d627-48ac-9d5f-009dfc6bb54f",
   "metadata": {},
   "outputs": [
    {
     "name": "stdout",
     "output_type": "stream",
     "text": [
      "<class 'pandas.core.frame.DataFrame'>\n",
      "RangeIndex: 40484 entries, 0 to 40483\n",
      "Data columns (total 3 columns):\n",
      " #   Column      Non-Null Count  Dtype\n",
      "---  ------      --------------  -----\n",
      " 0   treatment   40484 non-null  int64\n",
      " 1   new_images  40484 non-null  int64\n",
      " 2   converted   40484 non-null  int64\n",
      "dtypes: int64(3)\n",
      "memory usage: 949.0 KB\n",
      "None\n"
     ]
    }
   ],
   "source": [
    "print(df.info())"
   ]
  },
  {
   "cell_type": "markdown",
   "id": "7c0fd87e-d9fb-4bd0-b31a-9b7f9024f045",
   "metadata": {},
   "source": [
    "#### Conversion rates analysis\n",
    "\n",
    "Looking for the conversion rates of the old / new designs the values where grouped by treatment and new_images column, after that, we created the column n_count to count the total entries for each design. \n",
    "\n",
    "To count the conversion rate we divide the number of entries from each design by the total lenght of the dataframe and multiply by 100 to give us the conv_rate column.\n",
    "\n",
    "As we can see the Mean and Std of the conversion asre 11.34% and 31.70% respectively"
   ]
  },
  {
   "cell_type": "code",
   "execution_count": null,
   "id": "d9dc52a4-0366-4204-a896-c4227f333b95",
   "metadata": {},
   "outputs": [
    {
     "data": {
      "text/html": [
       "<div>\n",
       "<style scoped>\n",
       "    .dataframe tbody tr th:only-of-type {\n",
       "        vertical-align: middle;\n",
       "    }\n",
       "\n",
       "    .dataframe tbody tr th {\n",
       "        vertical-align: top;\n",
       "    }\n",
       "\n",
       "    .dataframe thead th {\n",
       "        text-align: right;\n",
       "    }\n",
       "</style>\n",
       "<table border=\"1\" class=\"dataframe\">\n",
       "  <thead>\n",
       "    <tr style=\"text-align: right;\">\n",
       "      <th></th>\n",
       "      <th></th>\n",
       "      <th>converted</th>\n",
       "      <th>n_count</th>\n",
       "      <th>percent_rate</th>\n",
       "    </tr>\n",
       "    <tr>\n",
       "      <th>treatment</th>\n",
       "      <th>new_images</th>\n",
       "      <th></th>\n",
       "      <th></th>\n",
       "      <th></th>\n",
       "    </tr>\n",
       "  </thead>\n",
       "  <tbody>\n",
       "    <tr>\n",
       "      <th rowspan=\"4\" valign=\"top\">0</th>\n",
       "      <th>0</th>\n",
       "      <td>0</td>\n",
       "      <td>9037</td>\n",
       "      <td>22.322399</td>\n",
       "    </tr>\n",
       "    <tr>\n",
       "      <th>0</th>\n",
       "      <td>1</td>\n",
       "      <td>1084</td>\n",
       "      <td>2.677601</td>\n",
       "    </tr>\n",
       "    <tr>\n",
       "      <th>1</th>\n",
       "      <td>0</td>\n",
       "      <td>8982</td>\n",
       "      <td>22.186543</td>\n",
       "    </tr>\n",
       "    <tr>\n",
       "      <th>1</th>\n",
       "      <td>1</td>\n",
       "      <td>1139</td>\n",
       "      <td>2.813457</td>\n",
       "    </tr>\n",
       "    <tr>\n",
       "      <th rowspan=\"4\" valign=\"top\">1</th>\n",
       "      <th>0</th>\n",
       "      <td>0</td>\n",
       "      <td>8906</td>\n",
       "      <td>21.998814</td>\n",
       "    </tr>\n",
       "    <tr>\n",
       "      <th>0</th>\n",
       "      <td>1</td>\n",
       "      <td>1215</td>\n",
       "      <td>3.001186</td>\n",
       "    </tr>\n",
       "    <tr>\n",
       "      <th>1</th>\n",
       "      <td>0</td>\n",
       "      <td>8970</td>\n",
       "      <td>22.156901</td>\n",
       "    </tr>\n",
       "    <tr>\n",
       "      <th>1</th>\n",
       "      <td>1</td>\n",
       "      <td>1151</td>\n",
       "      <td>2.843099</td>\n",
       "    </tr>\n",
       "  </tbody>\n",
       "</table>\n",
       "</div>"
      ],
      "text/plain": [
       "                      converted  n_count  percent_rate\n",
       "treatment new_images                                  \n",
       "0         0                   0     9037     22.322399\n",
       "          0                   1     1084      2.677601\n",
       "          1                   0     8982     22.186543\n",
       "          1                   1     1139      2.813457\n",
       "1         0                   0     8906     21.998814\n",
       "          0                   1     1215      3.001186\n",
       "          1                   0     8970     22.156901\n",
       "          1                   1     1151      2.843099"
      ]
     },
     "execution_count": 54,
     "metadata": {},
     "output_type": "execute_result"
    }
   ],
   "source": [
    "df_values = df.groupby(['treatment','new_images'])['converted'].value_counts().rename('n_count').reset_index(2)\n",
    "df_values['percent_rate'] = (df_values['n_count']/len(df)).mul(100)\n",
    "\n",
    "df_values"
   ]
  },
  {
   "cell_type": "code",
   "execution_count": null,
   "id": "bfbfbfaf-1fe1-4e64-bec7-cd475b00268c",
   "metadata": {},
   "outputs": [
    {
     "name": "stdout",
     "output_type": "stream",
     "text": [
      "Mean of the conversion rate:0.11335342357474558\n",
      "Std of the conversion rate:0.31702824412260483\n"
     ]
    }
   ],
   "source": [
    "print('Mean of the conversion rate:' + str(df.converted.mean()))\n",
    "print('Std of the conversion rate:' + str(df.converted.std()))"
   ]
  },
  {
   "cell_type": "markdown",
   "id": "db5b9380-8888-4bdf-b7cf-6a7613218e94",
   "metadata": {},
   "source": [
    "In the graph below, as with the Df with the conversion rates, where we plot the new/old designs, it shows that most of the conversion rates where the user is converted or \"join\" to the page are very low, not surpassing the number of 1215, or 3%  of the total count of the Df. \n",
    "\n",
    "In all the desgins old/new where the user joins the conversion rate is between 2.6 % and 3.002 %, while in the opposite escenarios the range goes around 21 % and 22.4 %. \n",
    "\n",
    "With this visual analysis and looking from the conversion rate colum, we could jump to the conclusion that the redesign of the site does not bring an improvement to the conversion rate."
   ]
  },
  {
   "cell_type": "code",
   "execution_count": null,
   "id": "dfd01d32-b031-4b12-bf20-3e62ee656c4a",
   "metadata": {},
   "outputs": [
    {
     "data": {
      "text/plain": [
       "<seaborn.axisgrid.FacetGrid at 0x7f731c6ca400>"
      ]
     },
     "execution_count": 56,
     "metadata": {},
     "output_type": "execute_result"
    },
    {
     "data": {
      "image/png": "[encoded data removed]",
      "text/plain": [
       "<Figure size 778.375x360 with 2 Axes>"
      ]
     },
     "metadata": {
      "needs_background": "light"
     },
     "output_type": "display_data"
    }
   ],
   "source": [
    "\n",
    "sns.catplot(x ='treatment',data = df, kind = 'count', col = 'new_images',hue='converted',palette=\"husl\")"
   ]
  },
  {
   "cell_type": "markdown",
   "id": "c286c70c-83ed-4bf4-9be0-6df80e34c9b5",
   "metadata": {},
   "source": [
    "## Developing A/B test\n",
    "\n",
    "#### Formulating the hypotesis\n",
    "\n",
    "Given we don´t know if the new designs will perform better or worse as our current design we will choose an two tailed test.\n",
    "\n",
    "Ho: p = p0\n",
    "\n",
    "Ha : p /= p0\n",
    "\n",
    "Where p and p0 stand for the conversion rate of the old and new designs respectively. We will set a confidence level of 95%.\n",
    "\n",
    "α = 0.05\n",
    "\n",
    "The a value will be our threshold, meaning if it the p-value is less than 0.05 we will reject the null hypotesis Ho. Our confidence will be (1-α) = 95%\n",
    "\n",
    "#### Choosing varaibles\n",
    "\n",
    "For our test four groups will be created\n",
    "\n",
    "- Control group A - Showing the old design\n",
    "- Treatment group B - Showing new design \n",
    "- Treatment group C - Showing new design\n",
    "- Treatment group D - Showing new design\n",
    "\n",
    "This will be our independent variable. The reason we have four groups even though we know the baseline conversion rate is that we want to control for other variables that could have an effect on our results. \n",
    "\n",
    "By having a control group we can directly compare their results to the treatment group, because the only systematic difference between the groups is the design of the product page, and we can therefore attribute any differences in results to the designs.\n",
    "\n",
    "For our dependent variable (i.e. what we are trying to measure), we are interested in capturing the conversion rate. The task will be performed by the cloumn converted, we can easily calculate the mean for each group to get the conversion rate of each design \n",
    "\n",
    "#### Choosing sample size\n",
    "\n",
    "It is important to note that since we won’t test the whole user base (our population), the conversion rates that we’ll get will inevitably be only estimates of the true rates.\n",
    "\n",
    "The number of people we decide to capture in each group will have an effect on the precision of our estimated conversion rates: the larger the sample size, the more precise our estimates (i.e. the smaller our confidence intervals), the higher the chance to detect a difference in the two groups, if present."
   ]
  },
  {
   "cell_type": "markdown",
   "id": "7f3220ec-98f4-438c-83fe-e8fdd77489e3",
   "metadata": {},
   "source": [
    "# Collecting and preparing the data\n",
    "\n",
    "#### Choosing control/treatment groups\n",
    "\n",
    "We need a control group and treatment groups, so for this task we create a column called group whti the next criterion:\n",
    "\n",
    "- Treatment == 0  & New images == 0 & Converted == 0/1: control group A\n",
    "- Treatment == 0  & New images == 1 & Converted == 0/1: treatment group B\n",
    "- Treatment == 1  & New images == 0 & Converted == 0/1: treatment group C\n",
    "- Treatment == 1  & New images == 1 & Converted == 0/1: treatment group D\n",
    "\n",
    "To calculate the statistical significance, we need to find each group's size and conversion rate throughout the entire dataset.\n"
   ]
  },
  {
   "cell_type": "code",
   "execution_count": null,
   "id": "fa19ccac-99b2-4067-b114-52f43c55583c",
   "metadata": {},
   "outputs": [
    {
     "data": {
      "text/html": [
       "<div>\n",
       "<style scoped>\n",
       "    .dataframe tbody tr th:only-of-type {\n",
       "        vertical-align: middle;\n",
       "    }\n",
       "\n",
       "    .dataframe tbody tr th {\n",
       "        vertical-align: top;\n",
       "    }\n",
       "\n",
       "    .dataframe thead th {\n",
       "        text-align: right;\n",
       "    }\n",
       "</style>\n",
       "<table border=\"1\" class=\"dataframe\">\n",
       "  <thead>\n",
       "    <tr style=\"text-align: right;\">\n",
       "      <th></th>\n",
       "      <th>treatment</th>\n",
       "      <th>new_images</th>\n",
       "      <th>converted</th>\n",
       "      <th>group</th>\n",
       "    </tr>\n",
       "  </thead>\n",
       "  <tbody>\n",
       "    <tr>\n",
       "      <th>0</th>\n",
       "      <td>1</td>\n",
       "      <td>1</td>\n",
       "      <td>0</td>\n",
       "      <td>D</td>\n",
       "    </tr>\n",
       "    <tr>\n",
       "      <th>1</th>\n",
       "      <td>1</td>\n",
       "      <td>1</td>\n",
       "      <td>0</td>\n",
       "      <td>D</td>\n",
       "    </tr>\n",
       "    <tr>\n",
       "      <th>2</th>\n",
       "      <td>1</td>\n",
       "      <td>1</td>\n",
       "      <td>0</td>\n",
       "      <td>D</td>\n",
       "    </tr>\n",
       "    <tr>\n",
       "      <th>3</th>\n",
       "      <td>1</td>\n",
       "      <td>0</td>\n",
       "      <td>0</td>\n",
       "      <td>C</td>\n",
       "    </tr>\n",
       "    <tr>\n",
       "      <th>4</th>\n",
       "      <td>0</td>\n",
       "      <td>1</td>\n",
       "      <td>0</td>\n",
       "      <td>B</td>\n",
       "    </tr>\n",
       "  </tbody>\n",
       "</table>\n",
       "</div>"
      ],
      "text/plain": [
       "   treatment  new_images  converted group\n",
       "0          1           1          0     D\n",
       "1          1           1          0     D\n",
       "2          1           1          0     D\n",
       "3          1           0          0     C\n",
       "4          0           1          0     B"
      ]
     },
     "execution_count": 57,
     "metadata": {},
     "output_type": "execute_result"
    }
   ],
   "source": [
    "filters = [\n",
    "(df.treatment == 0) & (df.new_images == 0) & (df.converted == 1),\n",
    "(df.treatment == 0) & (df.new_images == 1) & (df.converted == 1), \n",
    "(df.treatment == 1) & (df.new_images == 0) & (df.converted == 1),\n",
    "(df.treatment == 1) & (df.new_images == 1) & (df.converted == 1),\n",
    "(df.treatment == 0) & (df.new_images == 0) & (df.converted == 0),\n",
    "(df.treatment == 0) & (df.new_images == 1) & (df.converted == 0), \n",
    "(df.treatment == 1) & (df.new_images == 0) & (df.converted == 0),\n",
    "(df.treatment == 1) & (df.new_images == 1) & (df.converted == 0)\n",
    "]\n",
    "values = ['A','B','C','D','A','B','C','D']\n",
    "df[\"group\"] = np.select(filters, values)\n",
    "df.head()\n"
   ]
  },
  {
   "cell_type": "code",
   "execution_count": null,
   "id": "bc62d81f-0c10-4e5c-bb77-d7ee2da69cc0",
   "metadata": {},
   "outputs": [
    {
     "data": {
      "text/plain": [
       "A    10121\n",
       "B    10121\n",
       "C    10121\n",
       "D    10121\n",
       "Name: group, dtype: int64"
      ]
     },
     "execution_count": 58,
     "metadata": {},
     "output_type": "execute_result"
    }
   ],
   "source": [
    "df['group'].value_counts().sort_index()"
   ]
  },
  {
   "cell_type": "code",
   "execution_count": null,
   "id": "dc02cfab-5917-41d5-b041-92c3bf3438a7",
   "metadata": {},
   "outputs": [
    {
     "name": "stdout",
     "output_type": "stream",
     "text": [
      "Group A  size:  10121  conv rate:  0.10710404110265784\n",
      "Group B  size:  10121  conv rate:  0.11253828673056022\n",
      "Group C  size:  10121  conv rate:  0.12004742614366169\n",
      "Group D  size:  10121  conv rate:  0.11372394032210256\n"
     ]
    }
   ],
   "source": [
    "# Get names of groups \n",
    "d,c,b,a = df.group.unique()\n",
    "\n",
    "# Get the size of each group\n",
    "a_size = df['group'].value_counts()[0]\n",
    "b_size = df['group'].value_counts()[1]\n",
    "c_size = df['group'].value_counts()[2]\n",
    "d_size = df['group'].value_counts()[3]\n",
    "\n",
    "# Calculate the conversion rate of each group\n",
    "cr = df.groupby(by=['group'], as_index=False)\n",
    "cr = cr.agg({'converted': ['count', 'sum']})\n",
    "cr['conv'] = (cr.converted['sum'] / cr.converted['count'])\n",
    "\n",
    "a_conv = cr[cr.group == 'A'].conv[0]\n",
    "b_conv = cr[cr.group == 'B'].conv[1]\n",
    "c_conv = cr[cr.group == 'C'].conv[2]\n",
    "d_conv = cr[cr.group == 'D'].conv[3]\n",
    "\n",
    "\n",
    "# Print the size and conversion rate of each group\n",
    "print(\"Group\", a,\" size: \", a_size,\" conv rate: \",  a_conv) \n",
    "print(\"Group\", b,\" size: \", b_size,\" conv rate: \", b_conv)\n",
    "print(\"Group\", c,\" size: \", c_size,\" conv rate: \", c_conv) \n",
    "print(\"Group\", d,\" size: \", d_size,\" conv rate: \", d_conv)"
   ]
  },
  {
   "cell_type": "code",
   "execution_count": null,
   "id": "a3f36c28-77c0-4f18-8f3a-806ddc8f6c91",
   "metadata": {},
   "outputs": [
    {
     "data": {
      "text/html": [
       "<div>\n",
       "<style scoped>\n",
       "    .dataframe tbody tr th:only-of-type {\n",
       "        vertical-align: middle;\n",
       "    }\n",
       "\n",
       "    .dataframe tbody tr th {\n",
       "        vertical-align: top;\n",
       "    }\n",
       "\n",
       "    .dataframe thead tr th {\n",
       "        text-align: left;\n",
       "    }\n",
       "</style>\n",
       "<table border=\"1\" class=\"dataframe\">\n",
       "  <thead>\n",
       "    <tr>\n",
       "      <th></th>\n",
       "      <th>group</th>\n",
       "      <th colspan=\"2\" halign=\"left\">converted</th>\n",
       "      <th>conv</th>\n",
       "    </tr>\n",
       "    <tr>\n",
       "      <th></th>\n",
       "      <th></th>\n",
       "      <th>count</th>\n",
       "      <th>sum</th>\n",
       "      <th></th>\n",
       "    </tr>\n",
       "  </thead>\n",
       "  <tbody>\n",
       "    <tr>\n",
       "      <th>0</th>\n",
       "      <td>A</td>\n",
       "      <td>10121</td>\n",
       "      <td>1084</td>\n",
       "      <td>0.107104</td>\n",
       "    </tr>\n",
       "    <tr>\n",
       "      <th>1</th>\n",
       "      <td>B</td>\n",
       "      <td>10121</td>\n",
       "      <td>1139</td>\n",
       "      <td>0.112538</td>\n",
       "    </tr>\n",
       "    <tr>\n",
       "      <th>2</th>\n",
       "      <td>C</td>\n",
       "      <td>10121</td>\n",
       "      <td>1215</td>\n",
       "      <td>0.120047</td>\n",
       "    </tr>\n",
       "    <tr>\n",
       "      <th>3</th>\n",
       "      <td>D</td>\n",
       "      <td>10121</td>\n",
       "      <td>1151</td>\n",
       "      <td>0.113724</td>\n",
       "    </tr>\n",
       "  </tbody>\n",
       "</table>\n",
       "</div>"
      ],
      "text/plain": [
       "  group converted            conv\n",
       "            count   sum          \n",
       "0     A     10121  1084  0.107104\n",
       "1     B     10121  1139  0.112538\n",
       "2     C     10121  1215  0.120047\n",
       "3     D     10121  1151  0.113724"
      ]
     },
     "execution_count": 81,
     "metadata": {},
     "output_type": "execute_result"
    }
   ],
   "source": [
    "cr"
   ]
  },
  {
   "cell_type": "markdown",
   "id": "6364aac3-2a56-4ed3-81de-aa64c18a7658",
   "metadata": {},
   "source": [
    "# Testing hypotesis\n",
    "\n",
    "Since we have a very large sample, we can use the normal approximation for calculating our p-value (e.g. z-test). Again, Python makes all the calculations very easy\n",
    "\n"
   ]
  },
  {
   "cell_type": "code",
   "execution_count": null,
   "id": "5474ffc9-0ea9-4eb2-8eb7-b8a4dcafc26f",
   "metadata": {},
   "outputs": [
    {
     "name": "stdout",
     "output_type": "stream",
     "text": [
      "p-value A B: (0.21629751070269398, 'Not Significant')\n",
      "p-value A C: (0.0037020412269646225, 'Significant Result')\n",
      "p-value A D: (0.13292177651768905, 'Not Significant')\n"
     ]
    }
   ],
   "source": [
    "# Define a function to calculate and interpret the p-value\n",
    "def get_pvalue(con_conv, test_conv, con_size, test_size):\n",
    "    lift = -abs(test_conv - con_conv)\n",
    "    scale_one = con_conv * (1 - con_conv) * (1 / con_size)\n",
    "    scale_two = test_conv * (1 - test_conv) * (1 / test_size)\n",
    "    scale_val = (scale_one + scale_two) ** 0.5\n",
    "    p_value = 2 * stats.norm.cdf(lift, loc=0, scale=scale_val)\n",
    "    if p_value >= 0.05:\n",
    "        msg = \"Not Significant\"\n",
    "    else:\n",
    "        msg = \"Significant Result\"\n",
    "    return p_value, msg\n",
    "\n",
    "\n",
    "# Calculate the p-value of the experiment\n",
    "p_valueab = get_pvalue(a_conv, b_conv, a_size, b_size)\n",
    "p_valueac = get_pvalue(a_conv, c_conv, a_size, b_size)\n",
    "p_valuead = get_pvalue(a_conv, d_conv, a_size, b_size)\n",
    "\n",
    "print(\"p-value A B:\", p_valueab)\n",
    "print(\"p-value A C:\", p_valueac)\n",
    "print(\"p-value A D:\", p_valuead)"
   ]
  },
  {
   "cell_type": "markdown",
   "id": "874d3943-3142-4d0e-ba8b-d0b934d581c6",
   "metadata": {},
   "source": [
    "# Visualization\n",
    "\n",
    "\n",
    "Judging by the stats below, it does look like our control A and treatment B and D designs performed similarly, with the  treatment C design perform better. Plotting the data will make these results easier to relate."
   ]
  },
  {
   "cell_type": "code",
   "execution_count": null,
   "id": "15bb0eab-733c-4625-a535-a5b1b85e7746",
   "metadata": {},
   "outputs": [
    {
     "data": {
      "image/png": "[encoded data removed]",
      "text/plain": [
       "<Figure size 432x288 with 1 Axes>"
      ]
     },
     "metadata": {
      "needs_background": "light"
     },
     "output_type": "display_data"
    }
   ],
   "source": [
    "# Compute the variance\n",
    "a_var = (1 - a_conv) * a_conv / a_size\n",
    "b_var = (1 - b_conv) * b_conv / b_size\n",
    "c_var = (1 - c_conv) * c_conv / c_size\n",
    "d_var = (1 - d_conv) * d_conv / d_size\n",
    "\n",
    "# Compute the standard deviations\n",
    "a_sd, b_sd, c_sd, d_sd = a_var ** 0.5, b_var ** 0.5, c_var **0.5, d_var **0.5\n",
    "\n",
    "# Create the range of x values\n",
    "a_line = np.linspace(a_conv - 3 * a_sd, a_conv + 3 * a_sd, 100)\n",
    "b_line = np.linspace(b_conv - 3 * b_sd, b_conv + 3 * b_sd, 100)\n",
    "c_line = np.linspace(c_conv - 3 * c_sd, c_conv + 3 * c_sd, 100)\n",
    "d_line = np.linspace(d_conv - 3 * d_sd, d_conv + 3 * d_sd, 100)\n",
    "\n",
    "# Plot the distribution\n",
    "plt.plot(a_line, norm.pdf(a_line, a_conv, a_sd),label='A')\n",
    "plt.plot(b_line, norm.pdf(b_line, b_conv, b_sd),label='B')\n",
    "plt.plot(c_line, norm.pdf(c_line, c_conv, c_sd),label='C')\n",
    "plt.plot(d_line, norm.pdf(d_line, d_conv, d_sd),label='D')\n",
    "plt.legend()\n",
    "plt.show()"
   ]
  },
  {
   "cell_type": "markdown",
   "id": "9ac6ca19-94e8-439d-ab9a-d9f3a93f9e90",
   "metadata": {},
   "source": [
    "# Conclusion\n",
    "\n",
    "Since our C p-value is way below our α=0.05 threshold, we can reject the Null hypothesis Hₒ, which means that our new design (Treatment == 1 & New images == 0 & Converted == 0/1: treatment group C)  perform significantly different to the old one.\n",
    "\n",
    "After this the recomendations is to:\n",
    "\n",
    "#### Use the C design\n",
    "#### And there are no statistical significance between control group A and treatment group B and D"
   ]
  }
 ],
 "metadata": {
  "kernelspec": {
   "display_name": "Python 3 (ipykernel)",
   "language": "python",
   "name": "python3"
  },
  "language_info": {
   "codemirror_mode": {
    "name": "ipython",
    "version": 3
   },
   "file_extension": ".py",
   "mimetype": "text/x-python",
   "name": "python",
   "nbconvert_exporter": "python",
   "pygments_lexer": "ipython3",
   "version": "3.8.10"
  }
 },
 "nbformat": 4,
 "nbformat_minor": 5
}
